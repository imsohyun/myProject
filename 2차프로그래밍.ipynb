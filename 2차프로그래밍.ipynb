{
 "cells": [
  {
   "cell_type": "code",
   "execution_count": null,
   "id": "Xi7emBpmmLOZ",
   "metadata": {
    "id": "Xi7emBpmmLOZ"
   },
   "outputs": [],
   "source": [
    "import pandas as pd\n",
    "import matplotlib.pyplot as plt\n",
    "\n",
    "url = 'https://raw.githubusercontent.com/dongupak/BigDataAnalysis/main/weather.csv'\n",
    "df = pd.read_csv(url)"
   ]
  },
  {
   "cell_type": "markdown",
   "id": "c7ea7c56",
   "metadata": {},
   "source": [
    "1) 이 데이터 셋의 앞 3개 행과 마지막 3개의 행을 화면에 출력하시오."
   ]
  },
  {
   "cell_type": "code",
   "execution_count": null,
   "id": "1c8c3446-377e-4467-a81a-2a8ccc305685",
   "metadata": {},
   "outputs": [],
   "source": [
    "print(\"1) 데이터셋의 앞 3개 행\")\n",
    "print(df.head(3))\n",
    "print(\"\\n1) 데이터셋의 마지막 3개 행\")\n",
    "print(df.tail(3))"
   ]
  },
  {
   "cell_type": "markdown",
   "id": "88423b97",
   "metadata": {},
   "source": [
    "2) 2015년 6월 6일의 \"평균 기온\"과 \"풍속 정보\"를 출력하시오."
   ]
  },
  {
   "cell_type": "code",
   "execution_count": null,
   "id": "8efea1d2-43b8-4035-828d-e6af37d29541",
   "metadata": {},
   "outputs": [],
   "source": [
    "date = '2015-06-06'\n",
    "weather_on_date = df[df['일시'] == date]\n",
    "print(f\"\\n2) 2015년 6월 6일의 '평균 기온'과 '풍속 정보'\")\n",
    "print(weather_on_date[['평균기온(°C)', '평균풍속(m/s)']])"
   ]
  },
  {
   "cell_type": "markdown",
   "id": "d44e46f0",
   "metadata": {},
   "source": [
    "3) 가장 무더웠던 날짜를 추출해서 이 날의 기상 데이터를 출력하시오."
   ]
  },
  {
   "cell_type": "code",
   "execution_count": null,
   "id": "b290eebc-6edd-48e1-8d1f-1c501eebf20b",
   "metadata": {},
   "outputs": [],
   "source": [
    "hottest_day = df[df['평균기온(°C)'] == df['평균기온(°C)'].max()]\n",
    "print(\"\\n3) 가장 무더웠던 날짜의 기상 데이터\")\n",
    "print(hottest_day)"
   ]
  },
  {
   "cell_type": "markdown",
   "id": "af6ceb84",
   "metadata": {},
   "source": [
    "4) \"평균 기온\"이 30도를 넘는 날짜들을 찾아, 이 날의 기상 데이터를 출력하시오."
   ]
  },
  {
   "cell_type": "code",
   "execution_count": null,
   "id": "6d3b1b7d-c7bd-4dfc-aeea-8ffa918f81f7",
   "metadata": {},
   "outputs": [],
   "source": [
    "hot_days = df[df['평균기온(°C)'] > 30]\n",
    "print(\"\\n4) 평균 기온이 30도를 넘는 날짜들의 기상 데이터\")\n",
    "print(hot_days)"
   ]
  },
  {
   "cell_type": "code",
   "execution_count": null,
   "id": "9ba9e96d",
   "metadata": {},
   "outputs": [],
   "source": [
    "df['연도'] = pd.to_datetime(df['일시']).dt.year\n",
    "df['월'] = pd.to_datetime(df['일시']).dt.month"
   ]
  },
  {
   "cell_type": "markdown",
   "id": "2cb5b040",
   "metadata": {},
   "source": [
    "5) 연도별 \"평균 기온\"의 평균에 대한 추이를 선 그래프로 그리시오."
   ]
  },
  {
   "cell_type": "code",
   "execution_count": null,
   "id": "f52d2f6b-4369-4db1-9caf-61c1e6f1bf92",
   "metadata": {},
   "outputs": [],
   "source": [
    "yearly_avg_temp = df.groupby('연도')['평균기온(°C)'].mean()"
   ]
  },
  {
   "cell_type": "markdown",
   "id": "3e0ff621",
   "metadata": {},
   "source": [
    "6) 연도별 \"최대 풍속\"의 평균을 막대 그래프로 그리시오."
   ]
  },
  {
   "cell_type": "code",
   "execution_count": null,
   "id": "596c4dbd-b697-4338-b2e1-a4683a7b8721",
   "metadata": {},
   "outputs": [],
   "source": [
    "yearly_max_wind = df.groupby('연도')['최대풍속(m/s)'].mean()"
   ]
  },
  {
   "cell_type": "markdown",
   "id": "05b41b1b",
   "metadata": {},
   "source": [
    "7) 연도별 \"평균 풍속\"의 합을 히스토그램 그래프로 그리시오."
   ]
  },
  {
   "cell_type": "code",
   "execution_count": null,
   "id": "ecce5318-315c-42c1-aac5-9ba84d3859e7",
   "metadata": {},
   "outputs": [],
   "source": [
    "yearly_sum_wind = df.groupby('연도')['평균풍속(m/s)'].sum()"
   ]
  },
  {
   "cell_type": "markdown",
   "id": "eb9699c4",
   "metadata": {},
   "source": [
    "8) 2015년과 2016년의 \"평균 기온\"의 평균을 비교하여 어느 해가 더 더웠는지 출력하시오."
   ]
  },
  {
   "cell_type": "code",
   "execution_count": null,
   "id": "789d990e-4bfd-4026-a0f0-818d7970224b",
   "metadata": {},
   "outputs": [],
   "source": [
    "avg_temp_2015 = df[df['연도'] == 2015]['평균기온(°C)'].mean()\n",
    "avg_temp_2016 = df[df['연도'] == 2016]['평균기온(°C)'].mean()\n",
    "print(f\"\\n8) 2015년과 2016년의 '평균 기온'의 평균 비교\")\n",
    "print(f\"2015년 평균 기온: {avg_temp_2015:.2f} °C\")\n",
    "print(f\"2016년 평균 기온: {avg_temp_2016:.2f} °C\")\n",
    "hotter_year = '2016년' if avg_temp_2016 > avg_temp_2015 else '2015년'\n",
    "print(f\"더 더운 해: {hotter_year}\")"
   ]
  },
  {
   "cell_type": "markdown",
   "id": "4a22ce03",
   "metadata": {},
   "source": [
    "9) 월별 \"평균 기온\"의 합이 가장 적은 달과 가장 많은 달을 출력하시오."
   ]
  },
  {
   "cell_type": "code",
   "execution_count": null,
   "id": "81a02622-0d72-4c53-8468-a1aba63b6657",
   "metadata": {},
   "outputs": [],
   "source": [
    "monthly_sum_temp = df.groupby('월')['평균기온(°C)'].sum()\n",
    "min_temp_month = monthly_sum_temp.idxmin()\n",
    "max_temp_month = monthly_sum_temp.idxmax()\n",
    "print(f\"\\n9) 월별 '평균 기온'의 합이 가장 적은 달: {min_temp_month}월\")\n",
    "print(f\"월별 '평균 기온'의 합이 가장 많은 달: {max_temp_month}월\")"
   ]
  },
  {
   "cell_type": "markdown",
   "id": "34d6fde5",
   "metadata": {},
   "source": [
    "10) 연도별 \"최대 풍속\"의 평균이 가장 큰 연도를 출력하시오."
   ]
  },
  {
   "cell_type": "code",
   "execution_count": null,
   "id": "6d7b985c",
   "metadata": {},
   "outputs": [],
   "source": [
    "year_with_max_avg_max_wind = yearly_max_wind.idxmax()\n",
    "print(f\"\\n10) 연도별 '최대 풍속'의 평균이 가장 큰 연도: {year_with_max_avg_max_wind}년\")\n",
    "\n",
    "fig, axs = plt.subplots(3, 1, figsize=(10, 15))"
   ]
  },
  {
   "cell_type": "markdown",
   "id": "I1APhVeS0yr-",
   "metadata": {
    "id": "I1APhVeS0yr-"
   },
   "source": []
  }
 ],
 "metadata": {
  "colab": {
   "provenance": []
  },
  "kernelspec": {
   "display_name": "Python 3 (ipykernel)",
   "language": "python",
   "name": "python3"
  },
  "language_info": {
   "codemirror_mode": {
    "name": "ipython",
    "version": 3
   },
   "file_extension": ".py",
   "mimetype": "text/x-python",
   "name": "python",
   "nbconvert_exporter": "python",
   "pygments_lexer": "ipython3",
   "version": "3.9.13"
  },
  "toc": {
   "base_numbering": 1,
   "nav_menu": {},
   "number_sections": false,
   "sideBar": false,
   "skip_h1_title": false,
   "title_cell": "Table of Contents",
   "title_sidebar": "Contents",
   "toc_cell": false,
   "toc_position": {
    "height": "1098px",
    "left": "915.867px",
    "top": "138.233px",
    "width": "255.467px"
   },
   "toc_section_display": true,
   "toc_window_display": true
  }
 },
 "nbformat": 4,
 "nbformat_minor": 5
}
